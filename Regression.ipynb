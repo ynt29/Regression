{
 "cells": [
  {
   "cell_type": "markdown",
   "metadata": {},
   "source": [
    "# Regression (การถดถอย)\n",
    "\n",
    "Regression แปลไทยได้ว่า \"การถดถอย\" ตีความหมายคือการลดลง แต่จริง ๆ แล้ว มันสามารถประมาณการในลักษณะที่เพิ่มขึ้นได้ด้วย\n",
    "\n",
    "Regression เป็นการศึกษาความสัมพันธ์ของตัวแปร 2 ตัวขึ้นไป ซึ่งมีทั้งลักษณะความสัมพันธ์ที่เพิ่มขึ้น หรือ ลดลง\n",
    "\n",
    "Regression มี 2 ประเภท\n",
    "- Simple Regression หรือ Regression อย่างง่าย 2 ตัวแปร 2 ตัว ซึ่งความสัมพันธ์ทั้งสองตัวแปรอาจเป็นเส้นตรงหรือเป็นเส้นโค้งก็ได้\n",
    "- Multiple Regression หรือ Regression เชิงพหุ ประกอบด้วยตัวแปรมากกว่า 2 ตัว"
   ]
  },
  {
   "cell_type": "raw",
   "metadata": {},
   "source": [
    "Simple Linear Regression (Linear Regression)\n",
    "    เป็นการศึกษาคสพ. ของตัวแปร 2 ตัว ซึ่งมีความสัมพันธ์เป็นเชิงเส้นตรง \n",
    "    \n",
    "    ข้อมูลหรือตัวแปร(Feature) ประกอบด้วย \n",
    "    - ตัวแปรอิสระ (Independent Variable, Input หรือ Predictor)  เป็นค่าที่กำหนดตั้งต้นเพื่อหาค่าเป้าหมายหรือค่าประมาณการ\n",
    "    - ตัวแปรตาม  (Dependent Variable, Output หรือ Response) เป็นค่าที่แปรผันตามตัวแปรอิสระ \n",
    "    \n",
    "    คสพ. ของ 2 ตัวแปรมีสูตรสมการดังนี้\n",
    "    y = m * x + b\n",
    "    โดยที่ y = ตัวแปรตาม คือค่าที่ต้องการหา\n",
    "         x = ตัวแปรต้น หรือค่าตั้งต้นเพื่อนำไปหา y\n",
    "         m = ค่าความชันของเส้นตรง(slope) จะบ่งบอกว่าความสัมพันธ์ของ x & y เป็นแบบใด เช่น แปรผันตรง (m เป็นบวก) หรือ แปรผกผัน (m เป็นลบ)\n",
    "         b = จุดตัดบนแกน y(intercept) เมื่อ x=0  (ความหมายคือ ถ้า x=0, y=b เช่น y = 2 * x + 5 ถ้า x=0, y=5)"
   ]
  },
  {
   "cell_type": "raw",
   "metadata": {},
   "source": [
    "การประเมินความแม่นยำของ Model (Model Evaluation)\\\n",
    "    เป็นตัวบอกว่า Model ที่ได้มีความแม่นยำมากน้อยเพียงใด เหมาะจะนำไปใช้งานหรือไม่\n",
    "    \n",
    "    หลักการโดยรวมในการวัดหรือประเมินประสิทธิภาพความแม่นยำ Model คือหาระยะคลาดเคลื่อนระหว่าง จุดข้อมูลจริง เทียบกับจุดบนสมการเส้นตรงที่ได้จากการ Model\n",
    "    \n",
    "    ถ้าจุดทุกจุดของข้อมูลจริง เมื่อพล็อตแล้วอยู่บนเส้นสมการ แสดงว่า Model มีความเเม่นยำสูงมาก\n",
    "    แต่ถ้าระยะห่างระหว่างจุดข้อมูลจริงที่พล็อต ห่างจากเส้นสมการมาก แสดงว่า Model มีความเเม่นยำน้อย(คลาดเคลื่อนสูง)\n",
    "    \n",
    "    ค่าที่แสดงความคลาดเคลื่อน เรียกอีกอย่างว่า Residual"
   ]
  },
  {
   "cell_type": "raw",
   "metadata": {},
   "source": [
    "การประเมินหรือการวัดสำหรับ Regression\n",
    "    มีหลายวิธี ในที่นี้จะกล่าวถึง 4 วิธี\n",
    "    \n",
    "1) Mean Absolute Error (MAE)\n",
    "   หาผลรวมระยะความคลาดเคลื่อนทั้งหมด โดยคิดค่า Absolute (ถ้าค่าติดลบ ให้เปลี่ยนเป็นบวก) แล้วหารด้วยจำนวนข้อมูลทั้งหมด (N) \n",
    "   หรือจริง ๆ มันคือค่าเฉลี่ยของระยะคลาดเคลื่อนทั้งหมดนั่นเอง\n",
    "   ค่ายิ่งน้อย แสดงว่าคลาดเคลื่อนน้อย (แม่นยำสูง)\n",
    "   เป็นค่าที่เข้าใจได้ง่าย เพราะเป็นค่าเฉลี่ยของระยะคลาดเคลื่อน\n",
    "   \n",
    "2) Mean Square Error (MSE)\n",
    "   คล้ายกับ MAE แต่ใช้วิธียกกำลังสองให้เครื่องหมายลบหายไป \n",
    "   ค่ายิ่งน้อย แสดงว่าคลาดเคลื่อนน้อย (แม่นยำสูง)\n",
    "\n",
    "3) Root Mean Square Erro (RMSE)\n",
    "   นำ MSE มาถอดรูท \n",
    "   ค่ายิ่งน้อย แสดงว่าคลาดเคลื่อนน้อย (แม่นยำสูง)\n",
    "   ได้รับความนิยมมากกว่า เนื่องจากสามารถแปลความหมายเป็นหน่วยของ y ได้\n",
    "\n",
    "4) สัมประสิทธิ์การตัดสินใจ (Coefficient of Determination)\n",
    "   หรือ R Square หรือ R^2\n",
    "   มีค่าระหว่าง 0-1 \n",
    "   ถ้ามีค่า = 1 แสดงว่าความแม่นยำสูงสุด, ถ้ามีค่า = 0 แสดงว่ามีความผิดพลาดสูงสุด"
   ]
  },
  {
   "cell_type": "code",
   "execution_count": 5,
   "metadata": {},
   "outputs": [],
   "source": [
    "#ประเมิน Model อย่างง่าย ๆ ด้วย scikit-learn \n",
    "#ใช้ข้อมูลง่าย ๆ เพื่อสมมติ\n",
    "\n",
    "y = [100, 50, 30, 20]         # y จากข้อมูลจริง\n",
    "y_predict = [90, 50, 50, 30]  # y สมมติว่าได้จากการทำนายด้วย model\n",
    "\n",
    "#ระยะคลาดเคลื่อน คือ 10 0 20 10 ตามลำดับ\n",
    "#|(100-90)|, |(50-50|, |(30-50)|, |(20-30)| \n",
    "\n",
    "#คำนวณ MAE ด้วยมือ\n",
    "#N (ข้อมูลทั้งหมด) = 4\n",
    "\n",
    "#(10+0+20+10) / 4   = 10 "
   ]
  },
  {
   "cell_type": "code",
   "execution_count": 7,
   "metadata": {},
   "outputs": [
    {
     "data": {
      "text/plain": [
       "10.0"
      ]
     },
     "execution_count": 7,
     "metadata": {},
     "output_type": "execute_result"
    }
   ],
   "source": [
    "#หาด้วย scikit-learn ดังนี้\n",
    "\n",
    "\n",
    "from sklearn.metrics import mean_squared_error, mean_absolute_error\n",
    "mean_absolute_error(y, y_predict)"
   ]
  },
  {
   "cell_type": "code",
   "execution_count": 9,
   "metadata": {},
   "outputs": [
    {
     "data": {
      "text/plain": [
       "150.0"
      ]
     },
     "execution_count": 9,
     "metadata": {},
     "output_type": "execute_result"
    }
   ],
   "source": [
    "#หา MSE ด้วย scikit-learn ดังนี้\n",
    "mean_squared_error(y, y_predict)"
   ]
  },
  {
   "cell_type": "code",
   "execution_count": 10,
   "metadata": {},
   "outputs": [
    {
     "data": {
      "text/plain": [
       "12.24744871391589"
      ]
     },
     "execution_count": 10,
     "metadata": {},
     "output_type": "execute_result"
    }
   ],
   "source": [
    "#หาค่า RMSE ด้วย scikit-learn ดังนี้\n",
    "import numpy as np\n",
    "\n",
    "np.sqrt(mean_squared_error(y, y_predict))"
   ]
  },
  {
   "cell_type": "code",
   "execution_count": 11,
   "metadata": {},
   "outputs": [
    {
     "data": {
      "text/plain": [
       "LinearRegression()"
      ]
     },
     "execution_count": 11,
     "metadata": {},
     "output_type": "execute_result"
    }
   ],
   "source": [
    "#ประเมิน Model ด้วยไลบรารี\n",
    "#Workshop นี้ ทำต่อจาก Workshop 2 บทที่ 13\n",
    "\n",
    "#สร้าง model ก่อน\n",
    "\n",
    "import matplotlib.pyplot as plt\n",
    "import numpy as np\n",
    "\n",
    "from sklearn.linear_model import LinearRegression \n",
    "\n",
    "x_data = [1.0, 1.8, 3.0, 4.1, 5.2, 6.0]\n",
    "y_data = [1, 1.3, 2.2, 2.5, 2.8, 3.6]\n",
    "\n",
    "x = np.array(x_data)\n",
    "y = np.array(y_data)\n",
    "\n",
    "x = x.reshape(-1, 1)\n",
    "y = y.reshape(-1, 1)\n",
    "\n",
    "model = LinearRegression()\n",
    "model.fit(x, y)"
   ]
  },
  {
   "cell_type": "code",
   "execution_count": 12,
   "metadata": {},
   "outputs": [],
   "source": [
    "from sklearn.metrics import mean_squared_error, mean_absolute_error, r2_score"
   ]
  },
  {
   "cell_type": "code",
   "execution_count": 13,
   "metadata": {},
   "outputs": [
    {
     "data": {
      "text/plain": [
       "0.9685718887231725"
      ]
     },
     "execution_count": 13,
     "metadata": {},
     "output_type": "execute_result"
    }
   ],
   "source": [
    "#หา R^2 score\n",
    "\n",
    "#ทำได้ 2วิธี\n",
    "\n",
    "#ใช้ .score() โดยพารามิเตอร์คือ x และ y\n",
    "model.score(x, y)"
   ]
  },
  {
   "cell_type": "code",
   "execution_count": 14,
   "metadata": {},
   "outputs": [
    {
     "data": {
      "text/plain": [
       "0.9685718887231725"
      ]
     },
     "execution_count": 14,
     "metadata": {},
     "output_type": "execute_result"
    }
   ],
   "source": [
    "#ใช้ r2_score() โดยพารามิเตอร์คือ y(ข้อมูลจริง) และ y_predict(ที่ได้จากการคำนวณทำนายด้วย Model)\n",
    "y_predict = model.predict(x)\n",
    "r2_score(y, y_predict)"
   ]
  },
  {
   "cell_type": "code",
   "execution_count": 15,
   "metadata": {},
   "outputs": [],
   "source": [
    "#ความหมายคือ Model มีความแม่นยำถูกต้องประมาณ 97% \n",
    "#หรือพูดง่าย ๆ ถ้านำ Model ไปทำนาย จะมีความถูกต้องประมาณ 97%"
   ]
  },
  {
   "cell_type": "code",
   "execution_count": 17,
   "metadata": {},
   "outputs": [
    {
     "data": {
      "text/plain": [
       "0.02437424630136185"
      ]
     },
     "execution_count": 17,
     "metadata": {},
     "output_type": "execute_result"
    }
   ],
   "source": [
    "#MSE \n",
    "#ใช้ mean_square_error() โดยพารามิเตอร์คือ y(ข้อมูลจริง) y_predict(ที่ได้จากการคำนวณทำนายด้วย Model)\n",
    "mean_squared_error(y, y_predict)\n",
    "\n",
    "#ค่าที่ได้ประมาณ 0.024 (เข้าใกล้ 0) ถือว่ามีความคลาดเคลื่อนน้อย"
   ]
  },
  {
   "cell_type": "code",
   "execution_count": 18,
   "metadata": {},
   "outputs": [
    {
     "data": {
      "text/plain": [
       "0.12421541810053253"
      ]
     },
     "execution_count": 18,
     "metadata": {},
     "output_type": "execute_result"
    }
   ],
   "source": [
    "#MAE\n",
    "#ใช้ mean_absolute_error() โดยพารามิเตอร์คือ y(ข้อมูลจริง) y_predict(ที่ได้จากการคำนวณทำนายด้วย Model)\n",
    "mean_absolute_error(y, y_predict)\n",
    "\n",
    "#ค่าที่ได้ประมาณ 0.124 (เข้าใกล้ 0) ถือว่ามีความคลาดเคลื่อนน้อย"
   ]
  },
  {
   "cell_type": "code",
   "execution_count": 19,
   "metadata": {},
   "outputs": [
    {
     "data": {
      "image/png": "[encoded data removed]",
      "text/plain": [
       "<Figure size 432x288 with 1 Axes>"
      ]
     },
     "metadata": {
      "needs_background": "light"
     },
     "output_type": "display_data"
    }
   ],
   "source": [
    "#เปรียบเทียบประสิทธิภาพระหว่าง 2 Model\n",
    "#สร้างข้อมูล และพล็อตจุดดู คสพ.\n",
    "\n",
    "x_data = [1.0, 1.8, 3.0, 4.1, 5.2, 6.0]\n",
    "y_data = [1, 1.2, 2.8, 2.9, 2.1, 3.6]\n",
    "\n",
    "x = np.array(x_data).reshape(-1, 1)\n",
    "y = np.array(y_data).reshape(-1, 1)\n",
    "\n",
    "plt.scatter(x, y)\n",
    "plt.grid()\n",
    "plt.show()"
   ]
  },
  {
   "cell_type": "code",
   "execution_count": 20,
   "metadata": {},
   "outputs": [
    {
     "data": {
      "text/plain": [
       "LinearRegression()"
      ]
     },
     "execution_count": 20,
     "metadata": {},
     "output_type": "execute_result"
    }
   ],
   "source": [
    "#สร้างโมเดล\n",
    "model.fit(x, y)"
   ]
  },
  {
   "cell_type": "code",
   "execution_count": 21,
   "metadata": {},
   "outputs": [
    {
     "data": {
      "image/png": "[encoded data removed]",
      "text/plain": [
       "<Figure size 360x216 with 1 Axes>"
      ]
     },
     "metadata": {
      "needs_background": "light"
     },
     "output_type": "display_data"
    }
   ],
   "source": [
    "y_predict = model.predict(x)\n",
    "\n",
    "plt.rcParams['figure.figsize'] = 5,3 \n",
    "plt.grid()\n",
    "plt.scatter(x, y, color='b')  \n",
    "plt.plot(x, y_predict, linewidth='1')              #จุดข้อมูลจริง \n",
    "plt.scatter(x, y_predict, color='r', marker='s')   #กราฟที่ได้จากการทำนาย (Prediction)\n",
    "\n",
    "plt.show()"
   ]
  },
  {
   "cell_type": "code",
   "execution_count": 22,
   "metadata": {},
   "outputs": [
    {
     "data": {
      "text/plain": [
       "0.6708607578004822"
      ]
     },
     "execution_count": 22,
     "metadata": {},
     "output_type": "execute_result"
    }
   ],
   "source": [
    "#ประเมินโมเดล\n",
    "\n",
    "model.score(x, y)"
   ]
  },
  {
   "cell_type": "code",
   "execution_count": 23,
   "metadata": {},
   "outputs": [
    {
     "data": {
      "text/plain": [
       "0.2870825612518016"
      ]
     },
     "execution_count": 23,
     "metadata": {},
     "output_type": "execute_result"
    }
   ],
   "source": [
    "mean_squared_error(y, y_predict)"
   ]
  },
  {
   "cell_type": "code",
   "execution_count": 24,
   "metadata": {},
   "outputs": [
    {
     "data": {
      "text/plain": [
       "0.4668725550751493"
      ]
     },
     "execution_count": 24,
     "metadata": {},
     "output_type": "execute_result"
    }
   ],
   "source": [
    "mean_absolute_error(y, y_predict)"
   ]
  },
  {
   "cell_type": "code",
   "execution_count": 30,
   "metadata": {},
   "outputs": [],
   "source": [
    "#สรุปผลการประเมินประสิทธิภาพ Model ทั้ง 2 ชุด\n",
    "\n",
    "import pandas as pd\n",
    "\n",
    "cols = ['ข้อมูล', 'R^2 score', 'MSE', 'MAE']\n",
    "datas = [['ข้อมูลชุดแรก', 0.9685, 0.0243, 0.1242],\n",
    "        ['ข้อมูลชุดใหม่', 0.6708, 0.2870, 0.4668]]\n",
    "df = pd.DataFrame(datas, columns=cols)"
   ]
  },
  {
   "cell_type": "code",
   "execution_count": 29,
   "metadata": {},
   "outputs": [
    {
     "data": {
      "text/html": [
       "<div>\n",
       "<style scoped>\n",
       "    .dataframe tbody tr th:only-of-type {\n",
       "        vertical-align: middle;\n",
       "    }\n",
       "\n",
       "    .dataframe tbody tr th {\n",
       "        vertical-align: top;\n",
       "    }\n",
       "\n",
       "    .dataframe thead th {\n",
       "        text-align: right;\n",
       "    }\n",
       "</style>\n",
       "<table border=\"1\" class=\"dataframe\">\n",
       "  <thead>\n",
       "    <tr style=\"text-align: right;\">\n",
       "      <th></th>\n",
       "      <th>R^2 score</th>\n",
       "      <th>MSE</th>\n",
       "      <th>MAE</th>\n",
       "    </tr>\n",
       "    <tr>\n",
       "      <th>ข้อมูล</th>\n",
       "      <th></th>\n",
       "      <th></th>\n",
       "      <th></th>\n",
       "    </tr>\n",
       "  </thead>\n",
       "  <tbody>\n",
       "    <tr>\n",
       "      <th>ข้อมูลชุดแรก</th>\n",
       "      <td>0.9685</td>\n",
       "      <td>0.0243</td>\n",
       "      <td>0.1242</td>\n",
       "    </tr>\n",
       "    <tr>\n",
       "      <th>ข้อมูลชุดใหม่</th>\n",
       "      <td>0.6708</td>\n",
       "      <td>0.2870</td>\n",
       "      <td>0.4668</td>\n",
       "    </tr>\n",
       "  </tbody>\n",
       "</table>\n",
       "</div>"
      ],
      "text/plain": [
       "               R^2 score     MSE     MAE\n",
       "ข้อมูล                                  \n",
       "ข้อมูลชุดแรก      0.9685  0.0243  0.1242\n",
       "ข้อมูลชุดใหม่     0.6708  0.2870  0.4668"
      ]
     },
     "execution_count": 29,
     "metadata": {},
     "output_type": "execute_result"
    }
   ],
   "source": [
    "df.set_index(['ข้อมูล'], inplace=True)\n",
    "df"
   ]
  },
  {
   "cell_type": "code",
   "execution_count": 31,
   "metadata": {},
   "outputs": [
    {
     "data": {
      "text/html": [
       "<div>\n",
       "<style scoped>\n",
       "    .dataframe tbody tr th:only-of-type {\n",
       "        vertical-align: middle;\n",
       "    }\n",
       "\n",
       "    .dataframe tbody tr th {\n",
       "        vertical-align: top;\n",
       "    }\n",
       "\n",
       "    .dataframe thead th {\n",
       "        text-align: right;\n",
       "    }\n",
       "</style>\n",
       "<table border=\"1\" class=\"dataframe\">\n",
       "  <thead>\n",
       "    <tr style=\"text-align: right;\">\n",
       "      <th></th>\n",
       "      <th>TV</th>\n",
       "      <th>Sales</th>\n",
       "    </tr>\n",
       "  </thead>\n",
       "  <tbody>\n",
       "    <tr>\n",
       "      <th>0</th>\n",
       "      <td>230.1</td>\n",
       "      <td>22.1</td>\n",
       "    </tr>\n",
       "    <tr>\n",
       "      <th>1</th>\n",
       "      <td>44.5</td>\n",
       "      <td>10.4</td>\n",
       "    </tr>\n",
       "    <tr>\n",
       "      <th>2</th>\n",
       "      <td>17.2</td>\n",
       "      <td>9.3</td>\n",
       "    </tr>\n",
       "    <tr>\n",
       "      <th>3</th>\n",
       "      <td>151.5</td>\n",
       "      <td>18.5</td>\n",
       "    </tr>\n",
       "    <tr>\n",
       "      <th>4</th>\n",
       "      <td>180.8</td>\n",
       "      <td>12.9</td>\n",
       "    </tr>\n",
       "  </tbody>\n",
       "</table>\n",
       "</div>"
      ],
      "text/plain": [
       "      TV  Sales\n",
       "0  230.1   22.1\n",
       "1   44.5   10.4\n",
       "2   17.2    9.3\n",
       "3  151.5   18.5\n",
       "4  180.8   12.9"
      ]
     },
     "execution_count": 31,
     "metadata": {},
     "output_type": "execute_result"
    }
   ],
   "source": [
    "#ลองพยากรณ์ผลโฆษณา TV \n",
    "#(ลงทุนโฆษณาเท่าไร จะเพิ่มยอดขายเท่าไร)\n",
    "\n",
    "#เริ่มอ่านข้อมูล\n",
    "import pandas as pd\n",
    "import matplotlib.pyplot as plt\n",
    "import seaborn as sns\n",
    "\n",
    "df = pd.read_csv('data/advertising.csv', usecols=['TV', 'Sales'])\n",
    "df.head()"
   ]
  },
  {
   "cell_type": "code",
   "execution_count": 32,
   "metadata": {},
   "outputs": [],
   "source": [
    "#มูลค่าการลงทุนโฆษณาTV (*1000) และ Sales แสดงจำนวนที่ขายได้ (*1000)\n",
    "#เช่น ลงทุนโฆษณา 230,100 จะช่วยให้ขายสินค้าได้ประมาณ 22,100 ชิ้น\n",
    "\n",
    "#คำถามคือ\n",
    "#มีคสพ. ระหว่างการลงทุนโฆษณา กับจำนวนสินค้าที่ขายได้หรือไม่ (ลงโฆษณาแล้วส่งเสริมการขายหรือไม่)\n",
    "#ทำนายยอดขายเมื่อลงทุนโฆษณา มูลค่า 300 500 1000 (หน่วย *1000)"
   ]
  },
  {
   "cell_type": "code",
   "execution_count": 33,
   "metadata": {},
   "outputs": [
    {
     "data": {
      "text/plain": [
       "(200, 2)"
      ]
     },
     "execution_count": 33,
     "metadata": {},
     "output_type": "execute_result"
    }
   ],
   "source": [
    "df.shape"
   ]
  },
  {
   "cell_type": "code",
   "execution_count": 34,
   "metadata": {},
   "outputs": [
    {
     "data": {
      "text/plain": [
       "TV       0\n",
       "Sales    0\n",
       "dtype: int64"
      ]
     },
     "execution_count": 34,
     "metadata": {},
     "output_type": "execute_result"
    }
   ],
   "source": [
    "df.isnull().sum()     #ตรวจ Missing data"
   ]
  },
  {
   "cell_type": "code",
   "execution_count": 36,
   "metadata": {},
   "outputs": [
    {
     "data": {
      "text/plain": [
       "array([[230.1],\n",
       "       [ 44.5],\n",
       "       [ 17.2],\n",
       "       [151.5],\n",
       "       [180.8]])"
      ]
     },
     "execution_count": 36,
     "metadata": {},
     "output_type": "execute_result"
    }
   ],
   "source": [
    "#เตรียมตัวแปรไว้ Train Model\n",
    "\n",
    "x = df.TV.values.reshape(-1, 1)\n",
    "y = df.Sales.values.reshape(-1, 1)\n",
    "x[:5]   #ดู 5 ข้อมูลแรก"
   ]
  },
  {
   "cell_type": "code",
   "execution_count": 38,
   "metadata": {},
   "outputs": [
    {
     "data": {
      "text/plain": [
       "<seaborn.axisgrid.FacetGrid at 0x126642f34c0>"
      ]
     },
     "execution_count": 38,
     "metadata": {},
     "output_type": "execute_result"
    },
    {
     "data": {
      "image/png": "[encoded data removed]",
      "text/plain": [
       "<Figure size 360x360 with 1 Axes>"
      ]
     },
     "metadata": {},
     "output_type": "display_data"
    }
   ],
   "source": [
    "#พล็อตดูข้อมูล\n",
    "sns.set_style('darkgrid')\n",
    "sns.lmplot(x='TV', y='Sales', data=df)"
   ]
  },
  {
   "cell_type": "code",
   "execution_count": 40,
   "metadata": {},
   "outputs": [
    {
     "data": {
      "text/plain": [
       "LinearRegression()"
      ]
     },
     "execution_count": 40,
     "metadata": {},
     "output_type": "execute_result"
    }
   ],
   "source": [
    "#มีแนวโน้มค่อนข้างเป็นเส้นตรง ดังนั้นวิเคราะห์โดยใช้ Linear Regression ต่อ\n",
    "\n",
    "#สร้าง Model และ Train ด้วย .fit()\n",
    "\n",
    "from sklearn.linear_model import LinearRegression\n",
    "from sklearn.metrics import mean_squared_error, mean_absolute_error \n",
    "\n",
    "model = LinearRegression()\n",
    "model.fit(x, y)"
   ]
  },
  {
   "cell_type": "code",
   "execution_count": 60,
   "metadata": {},
   "outputs": [
    {
     "data": {
      "text/plain": [
       "(array([[0.04753664]]), array([7.03259355]))"
      ]
     },
     "execution_count": 60,
     "metadata": {},
     "output_type": "execute_result"
    }
   ],
   "source": [
    "model.coef_, model.intercept_\n",
    "\n",
    "#coef_ หรือ slope = 0.0475 หมายถึง ถ้าลงทุนโฆษณาเพิ่ม 1 หน่วย (อย่าลืมว่าคำนวณจริงต้อง *1000) จะส่งเสริมการขายสินค้าเพิ่มขึ้น .0475 หน่วย\n",
    "#intercept = 7.0326 ความหมายคือ แม้ไม่ลงทุนโฆษณาเลย (x=0) ก็ขายสินค้าได้ 7.0326 หน่วย"
   ]
  },
  {
   "cell_type": "code",
   "execution_count": 56,
   "metadata": {},
   "outputs": [
    {
     "data": {
      "text/plain": [
       "0.9999976549987364"
      ]
     },
     "execution_count": 56,
     "metadata": {},
     "output_type": "execute_result"
    }
   ],
   "source": [
    "model.score(x, y)"
   ]
  },
  {
   "cell_type": "code",
   "execution_count": 57,
   "metadata": {},
   "outputs": [
    {
     "data": {
      "text/plain": [
       "3.8804030743001e-05"
      ]
     },
     "execution_count": 57,
     "metadata": {},
     "output_type": "execute_result"
    }
   ],
   "source": [
    "y_predict = model.predict(x)\n",
    "mean_squared_error(y, y_predict)"
   ]
  },
  {
   "cell_type": "code",
   "execution_count": 58,
   "metadata": {},
   "outputs": [
    {
     "data": {
      "text/plain": [
       "0.005381250000001003"
      ]
     },
     "execution_count": 58,
     "metadata": {},
     "output_type": "execute_result"
    }
   ],
   "source": [
    "mean_absolute_error(y, y_predict)"
   ]
  },
  {
   "cell_type": "code",
   "execution_count": 59,
   "metadata": {},
   "outputs": [
    {
     "data": {
      "text/plain": [
       "array([[21.29358568],\n",
       "       [30.80091377],\n",
       "       [54.56923398]])"
      ]
     },
     "execution_count": 59,
     "metadata": {},
     "output_type": "execute_result"
    }
   ],
   "source": [
    "#ทำนายว่า ถ้าลงทุนโฆษณา 300 500 1000 (หน่วย*1000) จะส่งเสริมการขายเท่าไร\n",
    "\n",
    "x_input = [[300],\n",
    "          [500],\n",
    "          [1000]]\n",
    "\n",
    "y_predict = model.predict(x_input)\n",
    "y_predict"
   ]
  },
  {
   "cell_type": "code",
   "execution_count": 61,
   "metadata": {},
   "outputs": [],
   "source": [
    "#การลงทุนดังกล่าว ส่งเสริมการขายเพิ่มขึ้นประมาณ 21 30 และ 54 (*1000) ชิ้น ตามลำดับ"
   ]
  },
  {
   "cell_type": "code",
   "execution_count": 62,
   "metadata": {},
   "outputs": [],
   "source": [
    "#Multiple Linear Regression\n",
    "\n",
    "#มีหลายตัวแปรที่ต้องพิจารณาพร้อม ๆ กัน เลยต้องใช้ MLR ตามสมการนี้\n",
    "\n",
    "#y = (m1*x1) + (m2 * x2) + (mn * xn) + b\n",
    "\n",
    "#สมมติว่าการลงทุนโฆษณาทั้งหมดมีสื่อ TV Radio Newspaper ดังนั้น สมการจะเป็นดังนี้\n",
    "#y = (mTV * xTV)+ (mRadio * xRadio) + (mNewspaper * xNewspaper) + b"
   ]
  },
  {
   "cell_type": "code",
   "execution_count": 63,
   "metadata": {},
   "outputs": [
    {
     "data": {
      "text/html": [
       "<div>\n",
       "<style scoped>\n",
       "    .dataframe tbody tr th:only-of-type {\n",
       "        vertical-align: middle;\n",
       "    }\n",
       "\n",
       "    .dataframe tbody tr th {\n",
       "        vertical-align: top;\n",
       "    }\n",
       "\n",
       "    .dataframe thead th {\n",
       "        text-align: right;\n",
       "    }\n",
       "</style>\n",
       "<table border=\"1\" class=\"dataframe\">\n",
       "  <thead>\n",
       "    <tr style=\"text-align: right;\">\n",
       "      <th></th>\n",
       "      <th>TV</th>\n",
       "      <th>Radio</th>\n",
       "      <th>Newspaper</th>\n",
       "      <th>Sales</th>\n",
       "    </tr>\n",
       "  </thead>\n",
       "  <tbody>\n",
       "    <tr>\n",
       "      <th>1</th>\n",
       "      <td>230.1</td>\n",
       "      <td>37.8</td>\n",
       "      <td>69.2</td>\n",
       "      <td>22.1</td>\n",
       "    </tr>\n",
       "    <tr>\n",
       "      <th>2</th>\n",
       "      <td>44.5</td>\n",
       "      <td>39.3</td>\n",
       "      <td>45.1</td>\n",
       "      <td>10.4</td>\n",
       "    </tr>\n",
       "    <tr>\n",
       "      <th>3</th>\n",
       "      <td>17.2</td>\n",
       "      <td>45.9</td>\n",
       "      <td>69.3</td>\n",
       "      <td>9.3</td>\n",
       "    </tr>\n",
       "    <tr>\n",
       "      <th>4</th>\n",
       "      <td>151.5</td>\n",
       "      <td>41.3</td>\n",
       "      <td>58.5</td>\n",
       "      <td>18.5</td>\n",
       "    </tr>\n",
       "    <tr>\n",
       "      <th>5</th>\n",
       "      <td>180.8</td>\n",
       "      <td>10.8</td>\n",
       "      <td>58.4</td>\n",
       "      <td>12.9</td>\n",
       "    </tr>\n",
       "  </tbody>\n",
       "</table>\n",
       "</div>"
      ],
      "text/plain": [
       "      TV  Radio  Newspaper  Sales\n",
       "1  230.1   37.8       69.2   22.1\n",
       "2   44.5   39.3       45.1   10.4\n",
       "3   17.2   45.9       69.3    9.3\n",
       "4  151.5   41.3       58.5   18.5\n",
       "5  180.8   10.8       58.4   12.9"
      ]
     },
     "execution_count": 63,
     "metadata": {},
     "output_type": "execute_result"
    }
   ],
   "source": [
    "#ทดสอบ MLR\n",
    "\n",
    "df = pd.read_csv('data/advertising.csv', index_col=0)\n",
    "df.head()\n",
    "\n",
    "#การได้มาของยอดขาย มีการลงทุนโฆษณาในสื่อหลายประเภท ต้องพิจารณาพร้อมกัน ไม่ใช่หยิบสื่อใดสื่อหนึ่งมาอย่างเดียว\n",
    "\n",
    "#คำถามคือ\n",
    "#มี คสพ. ระหว่างการลงทุนโฆษณากับจำนวนสินค้าที่ขายได้หรือไม่\n",
    "#คสพ.ยอดขาย กับโฆษณาแต่ละสื่อเป็นอย่างไร สื่อใดดี-ไม่ดี\n",
    "#ทำนายยอดขายเมื่อลงทุนโฆษณามูลค่าต่างกัน"
   ]
  },
  {
   "cell_type": "code",
   "execution_count": 71,
   "metadata": {},
   "outputs": [
    {
     "data": {
      "text/plain": [
       "<seaborn.axisgrid.PairGrid at 0x1266619fa60>"
      ]
     },
     "execution_count": 71,
     "metadata": {},
     "output_type": "execute_result"
    },
    {
     "data": {
      "image/png": "[encoded data removed]",
      "text/plain": [
       "<Figure size 864x288 with 3 Axes>"
      ]
     },
     "metadata": {},
     "output_type": "display_data"
    }
   ],
   "source": [
    "sns.pairplot(df, x_vars=['TV', 'Radio', 'Newspaper'], y_vars='Sales', height=4, kind='reg')"
   ]
  },
  {
   "cell_type": "code",
   "execution_count": 70,
   "metadata": {},
   "outputs": [
    {
     "data": {
      "image/png": "[encoded data removed]",
      "text/plain": [
       "<Figure size 720x720 with 20 Axes>"
      ]
     },
     "metadata": {},
     "output_type": "display_data"
    }
   ],
   "source": [
    "g = sns.pairplot(df)"
   ]
  },
  {
   "cell_type": "code",
   "execution_count": 72,
   "metadata": {},
   "outputs": [
    {
     "name": "stdout",
     "output_type": "stream",
     "text": [
      "[ 0.04576465  0.18853002 -0.00103749]\n",
      "2.9388893694594067\n"
     ]
    }
   ],
   "source": [
    "#สร้าง Model และ Train ด้วย .fit()\n",
    "\n",
    "feature_cols = ['TV', 'Radio', 'Newspaper']\n",
    "X = df[feature_cols]     #ค่า matrix นิยมใช้ตัวพิมพ์ใหญ่ (แต่ใช้ตัวเล็กก็ได้นะ)\n",
    "y = df.Sales\n",
    "\n",
    "model = LinearRegression()\n",
    "model.fit(X, y)\n",
    "print(model.coef_)\n",
    "print(model.intercept_)"
   ]
  },
  {
   "cell_type": "code",
   "execution_count": 73,
   "metadata": {},
   "outputs": [
    {
     "data": {
      "text/plain": [
       "[('TV', 0.04576464545539761),\n",
       " ('Radio', 0.18853001691820462),\n",
       " ('Newspaper', -0.0010374930424762972)]"
      ]
     },
     "execution_count": 73,
     "metadata": {},
     "output_type": "execute_result"
    }
   ],
   "source": [
    "list(zip(feature_cols, model.coef_))    #รวมข้อมูลเป็น List เดียวกัน"
   ]
  },
  {
   "cell_type": "code",
   "execution_count": 74,
   "metadata": {},
   "outputs": [],
   "source": [
    "#ค่าสมการ\n",
    "#Y = (.0458 * TV) + (.1885 * Radio) + (-.001 * Newspaper) + 2.939\n",
    "\n",
    "#ความหมาย ลงทุน TV เพิ่ม 1 หน่วย ได้ยอดขายเพิ่มขึ้น 0.0458 (0.046)\n",
    "#ลงทุน Radio เพิ่ม 1 หน่วย ได้ยอดขายเพิ่มขึ้น 0.1885 (0.189) \n",
    "#ลงทุน Radio คุ้มสุด ส่วน Newspaper แทบไม่ค่อยมีผลอะไรเลย (ค่าเข้าใกล้ศูนย์ ติดลบ)"
   ]
  },
  {
   "cell_type": "code",
   "execution_count": 75,
   "metadata": {},
   "outputs": [
    {
     "data": {
      "text/plain": [
       "0.8972106381789522"
      ]
     },
     "execution_count": 75,
     "metadata": {},
     "output_type": "execute_result"
    }
   ],
   "source": [
    "#R^2 score\n",
    "model.score(X, y)   \n",
    "\n",
    "#0.897 ความแม่นยำประมาณ 89%"
   ]
  },
  {
   "cell_type": "code",
   "execution_count": 76,
   "metadata": {},
   "outputs": [
    {
     "data": {
      "text/plain": [
       "array([16.66828301, 59.49789444,  2.62764146, 45.01385869, 45.2213573 ])"
      ]
     },
     "execution_count": 76,
     "metadata": {},
     "output_type": "execute_result"
    }
   ],
   "source": [
    "#ทำนายว่า ต้องการลงทุนทั้งสามสื่อดังตาราง จะส่งเสริมยอดขายเท่าไร \n",
    "#ทำเป็น List ตามลำดับโครงสร้างข้อมูล ['TV', 'Radio', 'Newspaper'] \n",
    "\n",
    "x_input = [[300,0,0], [0,300,0], [0,0,300], [100,200,200], [100,200,0]]\n",
    "model.predict(x_input)    #เขียนเมทริกซ์แบบบรรทัดเดียว"
   ]
  },
  {
   "cell_type": "code",
   "execution_count": 81,
   "metadata": {},
   "outputs": [],
   "source": [
    "#ตารางสรุปผลลัพธ์\n",
    "\n",
    "cols = ['NO', 'TV', 'Radio', 'Newspaper', 'Sales']\n",
    "datas = [['Case1', 300, 0, 0, 16.67],\n",
    "         ['Case2',0,300,0,59.50],\n",
    "         ['Case3',0,0,300,2.63],\n",
    "         ['Case4',100,200,200,45.01],\n",
    "         ['Case5',100,200,0,45.22]] \n",
    "\n",
    "table = pd.DataFrame(datas, columns=cols)"
   ]
  },
  {
   "cell_type": "code",
   "execution_count": 80,
   "metadata": {},
   "outputs": [
    {
     "data": {
      "text/html": [
       "<div>\n",
       "<style scoped>\n",
       "    .dataframe tbody tr th:only-of-type {\n",
       "        vertical-align: middle;\n",
       "    }\n",
       "\n",
       "    .dataframe tbody tr th {\n",
       "        vertical-align: top;\n",
       "    }\n",
       "\n",
       "    .dataframe thead th {\n",
       "        text-align: right;\n",
       "    }\n",
       "</style>\n",
       "<table border=\"1\" class=\"dataframe\">\n",
       "  <thead>\n",
       "    <tr style=\"text-align: right;\">\n",
       "      <th></th>\n",
       "      <th>TV</th>\n",
       "      <th>Radio</th>\n",
       "      <th>Newspaper</th>\n",
       "      <th>Sales</th>\n",
       "    </tr>\n",
       "    <tr>\n",
       "      <th>NO</th>\n",
       "      <th></th>\n",
       "      <th></th>\n",
       "      <th></th>\n",
       "      <th></th>\n",
       "    </tr>\n",
       "  </thead>\n",
       "  <tbody>\n",
       "    <tr>\n",
       "      <th>Case1</th>\n",
       "      <td>300</td>\n",
       "      <td>0</td>\n",
       "      <td>0</td>\n",
       "      <td>16.67</td>\n",
       "    </tr>\n",
       "    <tr>\n",
       "      <th>Case2</th>\n",
       "      <td>0</td>\n",
       "      <td>300</td>\n",
       "      <td>0</td>\n",
       "      <td>59.50</td>\n",
       "    </tr>\n",
       "    <tr>\n",
       "      <th>Case3</th>\n",
       "      <td>0</td>\n",
       "      <td>0</td>\n",
       "      <td>300</td>\n",
       "      <td>2.63</td>\n",
       "    </tr>\n",
       "    <tr>\n",
       "      <th>Case4</th>\n",
       "      <td>100</td>\n",
       "      <td>200</td>\n",
       "      <td>200</td>\n",
       "      <td>45.01</td>\n",
       "    </tr>\n",
       "    <tr>\n",
       "      <th>Case5</th>\n",
       "      <td>100</td>\n",
       "      <td>200</td>\n",
       "      <td>0</td>\n",
       "      <td>45.22</td>\n",
       "    </tr>\n",
       "  </tbody>\n",
       "</table>\n",
       "</div>"
      ],
      "text/plain": [
       "        TV  Radio  Newspaper  Sales\n",
       "NO                                 \n",
       "Case1  300      0          0  16.67\n",
       "Case2    0    300          0  59.50\n",
       "Case3    0      0        300   2.63\n",
       "Case4  100    200        200  45.01\n",
       "Case5  100    200          0  45.22"
      ]
     },
     "execution_count": 80,
     "metadata": {},
     "output_type": "execute_result"
    }
   ],
   "source": [
    "table.set_index('NO')"
   ]
  },
  {
   "cell_type": "code",
   "execution_count": 82,
   "metadata": {},
   "outputs": [],
   "source": [
    "#ผลการวิเคราะห์ตอบคำถามได้ว่า\n",
    "#การลงทุน Radio คุ้มสุด รองมาคือ TV ส่วน Newspaper ไม่คุ้ม\n",
    "#สังเกต Case 4 ลงทุนรวม 500 ส่วน Case 5 300 ส่วน โดยตัดงบ Newspaper ปรากฏว่า ผลลัพธ์ที่ได้แทบไม่ต่างกัน"
   ]
  },
  {
   "cell_type": "code",
   "execution_count": 83,
   "metadata": {},
   "outputs": [],
   "source": [
    "#Polynomial Regression\n",
    "\n",
    "#คสพ.ระหว่างตัวแปรไม่ได้เป็นเส้นตรงเสมอไป อาจเป็นเส้นโค้งก็ได้ \n",
    "#ถ้า trend ของกลุ่มข้อมูลเป็นเส้นโค้ง แล้วเราใช้สมการเส้นตรง ผลการทำนายก็จะคลาดเคลื่อนไปมาก\n",
    "#ดังนั้นจึงมีเทคนิค Polynomial สร้างสมการเส้นโค้งให้ใกล้เคียงกับแนวข้อมูล ทำให้การทำนายแม่นยำกว่า \n",
    "\n",
    "#y = (m1*x)+(m2*x^2)+(mn*x^n) + b\n",
    "#หลักการคือ ในสมการ ค่า x จะมีค่ายกกำลังสูงกว่า 1 เพื่อให้เส้นสามารถโค้งได้\n",
    "#การยกกำลังจะมีค่ามากกว่า 2 ก็ได้ ขึ้นอยู่กับว่า ต้องการให้โค้งกี่ครั้ง (แต่ถ้าเลขชี้กำลังมากไป อาจเกิดปัญหา overfitting)"
   ]
  },
  {
   "cell_type": "code",
   "execution_count": 84,
   "metadata": {},
   "outputs": [
    {
     "data": {
      "text/html": [
       "<div>\n",
       "<style scoped>\n",
       "    .dataframe tbody tr th:only-of-type {\n",
       "        vertical-align: middle;\n",
       "    }\n",
       "\n",
       "    .dataframe tbody tr th {\n",
       "        vertical-align: top;\n",
       "    }\n",
       "\n",
       "    .dataframe thead th {\n",
       "        text-align: right;\n",
       "    }\n",
       "</style>\n",
       "<table border=\"1\" class=\"dataframe\">\n",
       "  <thead>\n",
       "    <tr style=\"text-align: right;\">\n",
       "      <th></th>\n",
       "      <th>SGP</th>\n",
       "      <th>THA</th>\n",
       "      <th>USA</th>\n",
       "      <th>VNM</th>\n",
       "    </tr>\n",
       "  </thead>\n",
       "  <tbody>\n",
       "    <tr>\n",
       "      <th>1960</th>\n",
       "      <td>704462302.4</td>\n",
       "      <td>2.760747e+09</td>\n",
       "      <td>5.433000e+11</td>\n",
       "      <td>NaN</td>\n",
       "    </tr>\n",
       "    <tr>\n",
       "      <th>1961</th>\n",
       "      <td>764308114.5</td>\n",
       "      <td>3.034044e+09</td>\n",
       "      <td>5.633000e+11</td>\n",
       "      <td>NaN</td>\n",
       "    </tr>\n",
       "    <tr>\n",
       "      <th>1962</th>\n",
       "      <td>825885273.7</td>\n",
       "      <td>3.308913e+09</td>\n",
       "      <td>6.051000e+11</td>\n",
       "      <td>NaN</td>\n",
       "    </tr>\n",
       "    <tr>\n",
       "      <th>1963</th>\n",
       "      <td>917222004.4</td>\n",
       "      <td>3.540403e+09</td>\n",
       "      <td>6.386000e+11</td>\n",
       "      <td>NaN</td>\n",
       "    </tr>\n",
       "    <tr>\n",
       "      <th>1964</th>\n",
       "      <td>893734483.2</td>\n",
       "      <td>3.889130e+09</td>\n",
       "      <td>6.858000e+11</td>\n",
       "      <td>NaN</td>\n",
       "    </tr>\n",
       "  </tbody>\n",
       "</table>\n",
       "</div>"
      ],
      "text/plain": [
       "              SGP           THA           USA  VNM\n",
       "1960  704462302.4  2.760747e+09  5.433000e+11  NaN\n",
       "1961  764308114.5  3.034044e+09  5.633000e+11  NaN\n",
       "1962  825885273.7  3.308913e+09  6.051000e+11  NaN\n",
       "1963  917222004.4  3.540403e+09  6.386000e+11  NaN\n",
       "1964  893734483.2  3.889130e+09  6.858000e+11  NaN"
      ]
     },
     "execution_count": 84,
     "metadata": {},
     "output_type": "execute_result"
    }
   ],
   "source": [
    "#workshop ทำนายค่า GDP \n",
    "#ลองเปรียบเทียบการใช้ 2 วิธีวิเคราะห์\n",
    "\n",
    "import pandas as pd\n",
    "import seaborn as sns\n",
    "import matplotlib.pyplot as plt\n",
    "\n",
    "df = pd.read_csv('data/gdp4c.csv', index_col=0)\n",
    "df.head()"
   ]
  },
  {
   "cell_type": "code",
   "execution_count": 85,
   "metadata": {},
   "outputs": [
    {
     "data": {
      "text/plain": [
       "SGP     0\n",
       "THA     0\n",
       "USA     0\n",
       "VNM    25\n",
       "dtype: int64"
      ]
     },
     "execution_count": 85,
     "metadata": {},
     "output_type": "execute_result"
    }
   ],
   "source": [
    "df.isnull().sum()"
   ]
  },
  {
   "cell_type": "code",
   "execution_count": 89,
   "metadata": {},
   "outputs": [
    {
     "name": "stderr",
     "output_type": "stream",
     "text": [
      "E:\\Anaconda\\lib\\site-packages\\seaborn\\_decorators.py:36: FutureWarning: Pass the following variables as keyword args: x, y. From version 0.12, the only valid positional argument will be `data`, and passing other arguments without an explicit keyword will result in an error or misinterpretation.\n",
      "  warnings.warn(\n",
      "E:\\Anaconda\\lib\\site-packages\\seaborn\\_decorators.py:36: FutureWarning: Pass the following variables as keyword args: x, y. From version 0.12, the only valid positional argument will be `data`, and passing other arguments without an explicit keyword will result in an error or misinterpretation.\n",
      "  warnings.warn(\n",
      "E:\\Anaconda\\lib\\site-packages\\seaborn\\_decorators.py:36: FutureWarning: Pass the following variables as keyword args: x, y. From version 0.12, the only valid positional argument will be `data`, and passing other arguments without an explicit keyword will result in an error or misinterpretation.\n",
      "  warnings.warn(\n"
     ]
    },
    {
     "data": {
      "text/plain": [
       "Text(0, 0.5, 'GDP')"
      ]
     },
     "execution_count": 89,
     "metadata": {},
     "output_type": "execute_result"
    },
    {
     "data": {
      "image/png": "[encoded data removed]",
      "text/plain": [
       "<Figure size 360x216 with 1 Axes>"
      ]
     },
     "metadata": {},
     "output_type": "display_data"
    }
   ],
   "source": [
    "#พล็อตกราฟดูข้อมูล\n",
    "\n",
    "sns.set_style('darkgrid')\n",
    "sns.scatterplot(df.index, df.THA, label='THA', color='b')\n",
    "sns.scatterplot(df.index, df.SGP, label='SGP', color='black')\n",
    "sns.scatterplot(df.index, df.VNM, label='VNM', color='r')\n",
    "plt.ylabel('GDP')"
   ]
  },
  {
   "cell_type": "code",
   "execution_count": 87,
   "metadata": {},
   "outputs": [
    {
     "name": "stderr",
     "output_type": "stream",
     "text": [
      "E:\\Anaconda\\lib\\site-packages\\seaborn\\_decorators.py:36: FutureWarning: Pass the following variables as keyword args: x, y. From version 0.12, the only valid positional argument will be `data`, and passing other arguments without an explicit keyword will result in an error or misinterpretation.\n",
      "  warnings.warn(\n"
     ]
    },
    {
     "data": {
      "text/plain": [
       "Text(0, 0.5, 'GDP')"
      ]
     },
     "execution_count": 87,
     "metadata": {},
     "output_type": "execute_result"
    },
    {
     "data": {
      "image/png": "[encoded data removed]",
      "text/plain": [
       "<Figure size 360x216 with 1 Axes>"
      ]
     },
     "metadata": {},
     "output_type": "display_data"
    }
   ],
   "source": [
    "#ลองพล็อตเฉพาะไทย\n",
    "sns.scatterplot(df.index, df.THA, label='THA')\n",
    "plt.ylabel('GDP')"
   ]
  },
  {
   "cell_type": "code",
   "execution_count": 90,
   "metadata": {},
   "outputs": [],
   "source": [
    "#เตรียมข้อมูลสำหรับการ Train\n",
    "#ปี คศ. เป็น index การกำหนดค่า x จึงต้องกำหนดตามข้างล่างนี้\n",
    "x = df.index.values.reshape(-1, 1)\n",
    "y = df.THA"
   ]
  },
  {
   "cell_type": "code",
   "execution_count": 91,
   "metadata": {},
   "outputs": [
    {
     "data": {
      "text/plain": [
       "LinearRegression()"
      ]
     },
     "execution_count": 91,
     "metadata": {},
     "output_type": "execute_result"
    }
   ],
   "source": [
    "#ใช้ Linear Regression\n",
    "from sklearn.linear_model import LinearRegression\n",
    "\n",
    "model = LinearRegression()\n",
    "model.fit(x, y)"
   ]
  },
  {
   "cell_type": "code",
   "execution_count": 92,
   "metadata": {},
   "outputs": [
    {
     "data": {
      "image/png": "[encoded data removed]",
      "text/plain": [
       "<Figure size 360x216 with 1 Axes>"
      ]
     },
     "metadata": {},
     "output_type": "display_data"
    }
   ],
   "source": [
    "y_predict = model.predict(x)                     # y ที่ได้จากการทำนาย\n",
    "plt.scatter(x, y, color='b')                     #x, y ข้อมูลจริง\n",
    "plt.plot(x, y_predict, linewidth='2', color='r') #ได้จาก Prediction\n",
    "plt.show()"
   ]
  },
  {
   "cell_type": "code",
   "execution_count": 93,
   "metadata": {},
   "outputs": [
    {
     "name": "stdout",
     "output_type": "stream",
     "text": [
      "R2 = 0.81300 \n",
      "MSE = 3.3677e+21 \n",
      "RMSE = 5.8032e+10 \n"
     ]
    }
   ],
   "source": [
    "#ประเมินความแม่นยำ\n",
    "\n",
    "from sklearn.metrics import mean_squared_error, mean_absolute_error#, r2_score\n",
    "import numpy as np\n",
    "print('R2 = {:.5f} '.format(model.score(x, y)))\n",
    "print('MSE = {:.4e} '.format(mean_squared_error(y, y_predict)))\n",
    "print('RMSE = {:.4e} '.format(np.sqrt(mean_squared_error(y, y_predict))))"
   ]
  },
  {
   "cell_type": "code",
   "execution_count": 94,
   "metadata": {},
   "outputs": [],
   "source": [
    "#ค่า R^2  ประมาณ 81%"
   ]
  },
  {
   "cell_type": "code",
   "execution_count": 98,
   "metadata": {},
   "outputs": [
    {
     "name": "stdout",
     "output_type": "stream",
     "text": [
      "3.504274E+11\n"
     ]
    }
   ],
   "source": [
    "#ทำนายปี 2020 จะมีค่า GDP เท่าไร\n",
    "\n",
    "y_predict = model.predict([[2020]])\n",
    "print('{:,.6E}'.format(y_predict[0]))"
   ]
  },
  {
   "cell_type": "code",
   "execution_count": 99,
   "metadata": {},
   "outputs": [],
   "source": [
    "#ค่าที่ได้เมื่อเทียบกับกราฟแล้วไม่น่าจะถูกต้อง เนื่องจากปี 2017 ก็เกิน 4E+11 แล้ว แถมกราฟยังมีแนวโน้มเพิ่มสูงขึ้นเรื่อย ๆ ดังนั้นลองใช้ Polynomial"
   ]
  },
  {
   "cell_type": "code",
   "execution_count": 100,
   "metadata": {},
   "outputs": [
    {
     "data": {
      "text/plain": [
       "LinearRegression()"
      ]
     },
     "execution_count": 100,
     "metadata": {},
     "output_type": "execute_result"
    }
   ],
   "source": [
    "from sklearn.linear_model import LinearRegression\n",
    "from sklearn.preprocessing import PolynomialFeatures\n",
    "\n",
    "poly_features = PolynomialFeatures(degree=2)   #degree ยกกำลัง 2\n",
    "x_poly = poly_features.fit_transform(x)\n",
    "\n",
    "model = LinearRegression()\n",
    "model.fit(x_poly, y)"
   ]
  },
  {
   "cell_type": "code",
   "execution_count": 101,
   "metadata": {},
   "outputs": [
    {
     "data": {
      "image/png": "[encoded data removed]",
      "text/plain": [
       "<Figure size 432x288 with 1 Axes>"
      ]
     },
     "metadata": {},
     "output_type": "display_data"
    }
   ],
   "source": [
    "y_poly_pred = model.predict(x_poly)\n",
    "\n",
    "sns.set_style('darkgrid')\n",
    "plt.rcParams['figure.figsize'] = 6,4  \n",
    "\n",
    "plt.scatter(x, y, color='b',s=12) \n",
    "plt.plot(x, y_poly_pred, linewidth='2', color='r') \n",
    "plt.ylabel('GDP')\n",
    "\n",
    "plt.show()"
   ]
  },
  {
   "cell_type": "code",
   "execution_count": 102,
   "metadata": {},
   "outputs": [
    {
     "name": "stdout",
     "output_type": "stream",
     "text": [
      "R2 = 0.95797 \n",
      "R2 = 0.95797 \n",
      "MSE = 7.5696e+20 \n",
      "RMSE = 2.7513e+10 \n"
     ]
    }
   ],
   "source": [
    "#ประเมิน Model \n",
    "\n",
    "from sklearn.metrics import mean_squared_error, mean_absolute_error, r2_score\n",
    "import numpy as np\n",
    "\n",
    "print('R2 = {:.5f} '.format(model.score(x_poly, y)))\n",
    "print('R2 = {:.5f} '.format(r2_score(y, y_poly_pred)))\n",
    "\n",
    "print('MSE = {:.4e} '.format(mean_squared_error(y, y_poly_pred)))\n",
    "print('RMSE = {:.4e} '.format(np.sqrt(mean_squared_error(y,  y_poly_pred))))"
   ]
  },
  {
   "cell_type": "code",
   "execution_count": 103,
   "metadata": {},
   "outputs": [
    {
     "data": {
      "text/plain": [
       "LinearRegression()"
      ]
     },
     "execution_count": 103,
     "metadata": {},
     "output_type": "execute_result"
    }
   ],
   "source": [
    "#ลองเปลี่ยน degree = 3 \n",
    "\n",
    "poly_features = PolynomialFeatures(degree=3)   #degree ยกกำลัง 3\n",
    "x_poly = poly_features.fit_transform(x)\n",
    "\n",
    "model = LinearRegression()\n",
    "model.fit(x_poly, y)"
   ]
  },
  {
   "cell_type": "code",
   "execution_count": 104,
   "metadata": {},
   "outputs": [
    {
     "data": {
      "image/png": "[encoded data removed]",
      "text/plain": [
       "<Figure size 432x288 with 1 Axes>"
      ]
     },
     "metadata": {},
     "output_type": "display_data"
    }
   ],
   "source": [
    "y_poly_pred = model.predict(x_poly)\n",
    "\n",
    "sns.set_style('darkgrid')\n",
    "plt.rcParams['figure.figsize'] = 6,4  \n",
    "\n",
    "plt.scatter(x, y, color='b',s=12) \n",
    "plt.plot(x, y_poly_pred, linewidth='2', color='r') \n",
    "plt.ylabel('GDP')\n",
    "\n",
    "plt.show()"
   ]
  },
  {
   "cell_type": "code",
   "execution_count": 105,
   "metadata": {},
   "outputs": [
    {
     "data": {
      "text/plain": [
       "LinearRegression()"
      ]
     },
     "execution_count": 105,
     "metadata": {},
     "output_type": "execute_result"
    }
   ],
   "source": [
    "#ลองเปลี่ยน degree = 4\n",
    "\n",
    "poly_features = PolynomialFeatures(degree=4)   #degree ยกกำลัง 4\n",
    "x_poly = poly_features.fit_transform(x)\n",
    "\n",
    "model = LinearRegression()\n",
    "model.fit(x_poly, y)"
   ]
  },
  {
   "cell_type": "code",
   "execution_count": 106,
   "metadata": {},
   "outputs": [
    {
     "data": {
      "image/png": "[encoded data removed]",
      "text/plain": [
       "<Figure size 432x288 with 1 Axes>"
      ]
     },
     "metadata": {},
     "output_type": "display_data"
    }
   ],
   "source": [
    "y_poly_pred = model.predict(x_poly)\n",
    "\n",
    "sns.set_style('darkgrid')\n",
    "plt.rcParams['figure.figsize'] = 6,4  \n",
    "\n",
    "plt.scatter(x, y, color='b',s=12) \n",
    "plt.plot(x, y_poly_pred, linewidth='2', color='r') \n",
    "plt.ylabel('GDP')\n",
    "\n",
    "plt.show()"
   ]
  },
  {
   "cell_type": "code",
   "execution_count": 107,
   "metadata": {},
   "outputs": [],
   "source": [
    "#จะเห็นว่า Degree = 3 เส้นโค้งของ Model เข้ากับจุดข้อมูลได้ดีกว่า"
   ]
  },
  {
   "cell_type": "code",
   "execution_count": 111,
   "metadata": {},
   "outputs": [
    {
     "data": {
      "text/html": [
       "<div>\n",
       "<style scoped>\n",
       "    .dataframe tbody tr th:only-of-type {\n",
       "        vertical-align: middle;\n",
       "    }\n",
       "\n",
       "    .dataframe tbody tr th {\n",
       "        vertical-align: top;\n",
       "    }\n",
       "\n",
       "    .dataframe thead th {\n",
       "        text-align: right;\n",
       "    }\n",
       "</style>\n",
       "<table border=\"1\" class=\"dataframe\">\n",
       "  <thead>\n",
       "    <tr style=\"text-align: right;\">\n",
       "      <th></th>\n",
       "      <th>R2 Score</th>\n",
       "      <th>MSE</th>\n",
       "      <th>RMSE</th>\n",
       "    </tr>\n",
       "    <tr>\n",
       "      <th>Case</th>\n",
       "      <th></th>\n",
       "      <th></th>\n",
       "      <th></th>\n",
       "    </tr>\n",
       "  </thead>\n",
       "  <tbody>\n",
       "    <tr>\n",
       "      <th>Linear</th>\n",
       "      <td>0.81300</td>\n",
       "      <td>3.367700e+21</td>\n",
       "      <td>5.803200e+10</td>\n",
       "    </tr>\n",
       "    <tr>\n",
       "      <th>degree=2</th>\n",
       "      <td>0.95797</td>\n",
       "      <td>7.569600e+20</td>\n",
       "      <td>2.751300e+10</td>\n",
       "    </tr>\n",
       "    <tr>\n",
       "      <th>degree=3</th>\n",
       "      <td>0.96689</td>\n",
       "      <td>5.963300e+20</td>\n",
       "      <td>2.442000e+14</td>\n",
       "    </tr>\n",
       "    <tr>\n",
       "      <th>degree=4</th>\n",
       "      <td>0.96692</td>\n",
       "      <td>5.957300e+20</td>\n",
       "      <td>2.440800e+10</td>\n",
       "    </tr>\n",
       "  </tbody>\n",
       "</table>\n",
       "</div>"
      ],
      "text/plain": [
       "          R2 Score           MSE          RMSE\n",
       "Case                                          \n",
       "Linear     0.81300  3.367700e+21  5.803200e+10\n",
       "degree=2   0.95797  7.569600e+20  2.751300e+10\n",
       "degree=3   0.96689  5.963300e+20  2.442000e+14\n",
       "degree=4   0.96692  5.957300e+20  2.440800e+10"
      ]
     },
     "execution_count": 111,
     "metadata": {},
     "output_type": "execute_result"
    }
   ],
   "source": [
    "#ตารางสรุปผลลัพธ์ \n",
    "\n",
    "cols = ['Case', 'R2 Score', 'MSE', 'RMSE']\n",
    "datas = [['Linear', 0.81300, 3.3677e+21, 5.8032e+10],\n",
    "        ['degree=2', 0.95797, 7.5696e+20, 2.7513e+10],\n",
    "        ['degree=3', 0.96689, 5.9633e+20, 24420e+10],\n",
    "        ['degree=4', 0.96692, 5.9573e+20, 2.4408e+10]]\n",
    "\n",
    "gtable = pd.DataFrame(datas, columns=cols)\n",
    "gtable.set_index('Case')"
   ]
  },
  {
   "cell_type": "code",
   "execution_count": 112,
   "metadata": {},
   "outputs": [],
   "source": [
    "#เมื่อเพิ่ม degree ค่าความคลาดเคลื่อนจะลดลง แต่ถ้าเพิ่มมากไป ก็อาจจะทำให้ Model เกิดภาวะโค้งมากไป (overfitting) ซึ่งไม่เป็นผลดี"
   ]
  },
  {
   "cell_type": "code",
   "execution_count": 113,
   "metadata": {},
   "outputs": [
    {
     "name": "stdout",
     "output_type": "stream",
     "text": [
      "4.1852e+11\n",
      "4.9380e+11\n",
      "5.4910e+11\n"
     ]
    }
   ],
   "source": [
    "#ทำนาย GDP ปี 2015, 2018 และ 2020\n",
    "x_input = [[2015], [2018], [2020]]\n",
    "y_poly_pred = model.predict(poly_features.fit_transform(x_input))\n",
    "\n",
    "for val in y_poly_pred:\n",
    "    print(\"{:.4e}\".format(val))"
   ]
  },
  {
   "cell_type": "code",
   "execution_count": 116,
   "metadata": {},
   "outputs": [
    {
     "data": {
      "text/html": [
       "<div>\n",
       "<style scoped>\n",
       "    .dataframe tbody tr th:only-of-type {\n",
       "        vertical-align: middle;\n",
       "    }\n",
       "\n",
       "    .dataframe tbody tr th {\n",
       "        vertical-align: top;\n",
       "    }\n",
       "\n",
       "    .dataframe thead th {\n",
       "        text-align: right;\n",
       "    }\n",
       "</style>\n",
       "<table border=\"1\" class=\"dataframe\">\n",
       "  <thead>\n",
       "    <tr style=\"text-align: right;\">\n",
       "      <th></th>\n",
       "      <th>SGP</th>\n",
       "      <th>THA</th>\n",
       "      <th>USA</th>\n",
       "      <th>VNM</th>\n",
       "    </tr>\n",
       "  </thead>\n",
       "  <tbody>\n",
       "    <tr>\n",
       "      <th>2013</th>\n",
       "      <td>3.044540e+11</td>\n",
       "      <td>4.203330e+11</td>\n",
       "      <td>1.669150e+13</td>\n",
       "      <td>1.712220e+11</td>\n",
       "    </tr>\n",
       "    <tr>\n",
       "      <th>2014</th>\n",
       "      <td>3.115390e+11</td>\n",
       "      <td>4.073390e+11</td>\n",
       "      <td>1.742760e+13</td>\n",
       "      <td>1.862050e+11</td>\n",
       "    </tr>\n",
       "    <tr>\n",
       "      <th>2015</th>\n",
       "      <td>3.040980e+11</td>\n",
       "      <td>4.013990e+11</td>\n",
       "      <td>1.812070e+13</td>\n",
       "      <td>1.932410e+11</td>\n",
       "    </tr>\n",
       "    <tr>\n",
       "      <th>2016</th>\n",
       "      <td>3.097640e+11</td>\n",
       "      <td>4.117550e+11</td>\n",
       "      <td>1.862450e+13</td>\n",
       "      <td>2.052760e+11</td>\n",
       "    </tr>\n",
       "    <tr>\n",
       "      <th>2017</th>\n",
       "      <td>3.239070e+11</td>\n",
       "      <td>4.552210e+11</td>\n",
       "      <td>1.939060e+13</td>\n",
       "      <td>2.238640e+11</td>\n",
       "    </tr>\n",
       "  </tbody>\n",
       "</table>\n",
       "</div>"
      ],
      "text/plain": [
       "               SGP           THA           USA           VNM\n",
       "2013  3.044540e+11  4.203330e+11  1.669150e+13  1.712220e+11\n",
       "2014  3.115390e+11  4.073390e+11  1.742760e+13  1.862050e+11\n",
       "2015  3.040980e+11  4.013990e+11  1.812070e+13  1.932410e+11\n",
       "2016  3.097640e+11  4.117550e+11  1.862450e+13  2.052760e+11\n",
       "2017  3.239070e+11  4.552210e+11  1.939060e+13  2.238640e+11"
      ]
     },
     "execution_count": 116,
     "metadata": {},
     "output_type": "execute_result"
    }
   ],
   "source": [
    "df.tail()\n",
    "\n",
    "#ค่าที่ได้จาก Model กับ Dataset \n",
    "#พบว่าในปี 2015 ค่าแตกต่างกันประมาณ 2.8%         (4.1852e+11 ใน model, 4.4.013990e+11 ของจริง)\n",
    "#แต่จะคลาดเคลื่อนน้อยกว่า Linear Regression"
   ]
  },
  {
   "cell_type": "code",
   "execution_count": 117,
   "metadata": {},
   "outputs": [
    {
     "data": {
      "text/html": [
       "<div>\n",
       "<style scoped>\n",
       "    .dataframe tbody tr th:only-of-type {\n",
       "        vertical-align: middle;\n",
       "    }\n",
       "\n",
       "    .dataframe tbody tr th {\n",
       "        vertical-align: top;\n",
       "    }\n",
       "\n",
       "    .dataframe thead th {\n",
       "        text-align: right;\n",
       "    }\n",
       "</style>\n",
       "<table border=\"1\" class=\"dataframe\">\n",
       "  <thead>\n",
       "    <tr style=\"text-align: right;\">\n",
       "      <th></th>\n",
       "      <th>date</th>\n",
       "      <th>newcase</th>\n",
       "      <th>death</th>\n",
       "    </tr>\n",
       "  </thead>\n",
       "  <tbody>\n",
       "    <tr>\n",
       "      <th>77</th>\n",
       "      <td>03/18/2020</td>\n",
       "      <td>35</td>\n",
       "      <td>0</td>\n",
       "    </tr>\n",
       "    <tr>\n",
       "      <th>78</th>\n",
       "      <td>03/19/2020</td>\n",
       "      <td>60</td>\n",
       "      <td>0</td>\n",
       "    </tr>\n",
       "    <tr>\n",
       "      <th>79</th>\n",
       "      <td>03/20/2020</td>\n",
       "      <td>50</td>\n",
       "      <td>0</td>\n",
       "    </tr>\n",
       "    <tr>\n",
       "      <th>80</th>\n",
       "      <td>03/21/2020</td>\n",
       "      <td>89</td>\n",
       "      <td>0</td>\n",
       "    </tr>\n",
       "    <tr>\n",
       "      <th>81</th>\n",
       "      <td>03/22/2020</td>\n",
       "      <td>188</td>\n",
       "      <td>0</td>\n",
       "    </tr>\n",
       "  </tbody>\n",
       "</table>\n",
       "</div>"
      ],
      "text/plain": [
       "          date  newcase  death\n",
       "77  03/18/2020       35      0\n",
       "78  03/19/2020       60      0\n",
       "79  03/20/2020       50      0\n",
       "80  03/21/2020       89      0\n",
       "81  03/22/2020      188      0"
      ]
     },
     "execution_count": 117,
     "metadata": {},
     "output_type": "execute_result"
    }
   ],
   "source": [
    "#ทำนายจำนวนผู้ติดเชื้อ COVID-19\n",
    "\n",
    "import matplotlib.pyplot as plt\n",
    "import seaborn as sns\n",
    "import pandas as pd\n",
    "\n",
    "df = pd.read_csv('data/covid19.csv')\n",
    "\n",
    "df.tail()"
   ]
  },
  {
   "cell_type": "code",
   "execution_count": 118,
   "metadata": {},
   "outputs": [],
   "source": [
    "df = df[(df.index >= 67)]  #ใช้ข้อมูลตั้งแต่วันที่ 67 เป็นต้นไป"
   ]
  },
  {
   "cell_type": "code",
   "execution_count": 119,
   "metadata": {},
   "outputs": [
    {
     "name": "stderr",
     "output_type": "stream",
     "text": [
      "E:\\Anaconda\\lib\\site-packages\\seaborn\\_decorators.py:36: FutureWarning: Pass the following variables as keyword args: x, y. From version 0.12, the only valid positional argument will be `data`, and passing other arguments without an explicit keyword will result in an error or misinterpretation.\n",
      "  warnings.warn(\n"
     ]
    },
    {
     "data": {
      "image/png": "[encoded data removed]",
      "text/plain": [
       "<Figure size 360x216 with 1 Axes>"
      ]
     },
     "metadata": {},
     "output_type": "display_data"
    }
   ],
   "source": [
    "#ดูแนวโน้ม\n",
    "\n",
    "plt.figure(figsize=(5,3))\n",
    "sns.lineplot(df.index,'newcase', data=df, marker='o', markersize=8)\n",
    "plt.title('COVID-19')\n",
    "plt.show()"
   ]
  },
  {
   "cell_type": "code",
   "execution_count": 120,
   "metadata": {},
   "outputs": [
    {
     "data": {
      "text/plain": [
       "(array([[67],\n",
       "        [68],\n",
       "        [69],\n",
       "        [70],\n",
       "        [71]], dtype=int64),\n",
       " 67     0\n",
       " 68     0\n",
       " 69     3\n",
       " 70     6\n",
       " 71    11\n",
       " Name: newcase, dtype: int64)"
      ]
     },
     "execution_count": 120,
     "metadata": {},
     "output_type": "execute_result"
    }
   ],
   "source": [
    "#เตรียมข้อมูล x(เลขวัน) และ y(จำนวนผู้ติดเชื้อ) เพื่อ Train และสร้าง Model\n",
    "\n",
    "x = df.index.values.reshape(-1,1)\n",
    "y = df.newcase\n",
    "x[:5] , y[:5]   "
   ]
  },
  {
   "cell_type": "code",
   "execution_count": 121,
   "metadata": {},
   "outputs": [
    {
     "data": {
      "text/plain": [
       "LinearRegression()"
      ]
     },
     "execution_count": 121,
     "metadata": {},
     "output_type": "execute_result"
    }
   ],
   "source": [
    "#สร้าง Model\n",
    "\n",
    "from sklearn.linear_model import LinearRegression\n",
    "from sklearn.preprocessing import PolynomialFeatures\n",
    "\n",
    "poly_features = PolynomialFeatures(degree=3)\n",
    "x_poly = poly_features.fit_transform(x)\n",
    "model = LinearRegression()\n",
    "model.fit(x_poly, y)"
   ]
  },
  {
   "cell_type": "code",
   "execution_count": 122,
   "metadata": {},
   "outputs": [
    {
     "data": {
      "image/png": "[encoded data removed]",
      "text/plain": [
       "<Figure size 432x288 with 1 Axes>"
      ]
     },
     "metadata": {},
     "output_type": "display_data"
    }
   ],
   "source": [
    "#พล็อตเส้นโค้งที่ได้จาก Model เทียบกับจุดข้อมูลจริง (จุดกลม)\n",
    "\n",
    "y_poly_pred = model.predict(x_poly)\n",
    "\n",
    "sns.set_style('darkgrid')\n",
    "\n",
    "plt.scatter(x, y, color='b',s=12)  \n",
    "plt.plot(x, y_poly_pred, linewidth='2', color='r') \n",
    "plt.ylabel('New cases')\n",
    "plt.title('Degree=3')\n",
    "plt.show()"
   ]
  },
  {
   "cell_type": "code",
   "execution_count": 123,
   "metadata": {},
   "outputs": [
    {
     "name": "stdout",
     "output_type": "stream",
     "text": [
      "R2 = 0.90059 \n"
     ]
    }
   ],
   "source": [
    "#ประเมิน Model โดยคำนวณหาค่า R^2\n",
    "\n",
    "from sklearn.metrics import  r2_score\n",
    "print('R2 = {:.5f} '.format(r2_score(y, y_poly_pred)))"
   ]
  },
  {
   "cell_type": "code",
   "execution_count": 124,
   "metadata": {},
   "outputs": [],
   "source": [
    "#การอ้างอิงวัน ใช้ค่าแกน X (index ของแถว) \n",
    "#แกน X บอกเลขวันลำดับแรกเริ่มนับ \n",
    "#ต้องการพยากรณ์หรือทำนายว่า ณ วันลำดับที่ต่าง ๆ ดังต่อไปนี้ มีจำนวนผู้ติดเชื้อ(รายวัน) เท่าใด\n",
    "\n",
    "#81: ลำดับวันที่บันทึกข้อมูลค่าสุดท้าย คือ 22/3/2020\n",
    "#90: 10 วันถัดไป หลังจาก 22/3/2020\n",
    "#110: 30 วันถัดไป หลังจาก 22/3/2020\n",
    "#140: 60 วันถัดไป หลังจาก 22/3/2020\n",
    "\n",
    "x_input = [[81], [90], [110], [140]]"
   ]
  },
  {
   "cell_type": "code",
   "execution_count": 125,
   "metadata": {},
   "outputs": [
    {
     "name": "stdout",
     "output_type": "stream",
     "text": [
      "159\n",
      "1226\n",
      "11558\n",
      "66365\n"
     ]
    }
   ],
   "source": [
    "#ทำนาย\n",
    "y_poly_pred = model.predict(poly_features.fit_transform(x_input))\n",
    "y_poly_pred\n",
    "\n",
    "for val in y_poly_pred:\n",
    "    print('{:.0f}'.format(val))"
   ]
  },
  {
   "cell_type": "raw",
   "metadata": {},
   "source": [
    "Overfitting และ Underfitting\n",
    "\n",
    "Underfitting คือการที่ Model หรือเส้นสมการ Model ของ Regression มีความคลาดเคลื่อนมาก ไม่แม่นยำพอที่จะนำไปใช้ทำนาย\n",
    "Overfitting  คือการที่ Model หรือเส้นสมการ Model ของ Regression มีความถูกต้องเหมาะสมกับข้อมูลที่ใช้ Train มากเกินไป และจากการกำหนดค่า Degree มากเกินไป\n",
    "             ทำให้ระบบพยายามปรับเส้นโค้งให้ผ่านทุกจุดข้อมูล เมื่อประเมินออกมาจะได้ค่าคลาดเคลื่อนน้อย เหมือนจะแม่นยำดี\n",
    "             แต่จริง ๆ แล้ว ถ้านำไปใช้กับข้อมูลจริง ซึ่งข้อมูลจริงจะมีค่าไม่ตรงกับข้อมูล Train ผลลัพธ์ที่ได้ก็จะผิดเพี้ยนไปมาก"
   ]
  },
  {
   "cell_type": "code",
   "execution_count": null,
   "metadata": {},
   "outputs": [],
   "source": []
  }
 ],
 "metadata": {
  "kernelspec": {
   "display_name": "Python 3",
   "language": "python",
   "name": "python3"
  },
  "language_info": {
   "codemirror_mode": {
    "name": "ipython",
    "version": 3
   },
   "file_extension": ".py",
   "mimetype": "text/x-python",
   "name": "python",
   "nbconvert_exporter": "python",
   "pygments_lexer": "ipython3",
   "version": "3.8.5"
  }
 },
 "nbformat": 4,
 "nbformat_minor": 4
}
